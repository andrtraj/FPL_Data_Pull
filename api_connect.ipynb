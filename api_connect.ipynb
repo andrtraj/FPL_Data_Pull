{
 "cells": [
  {
   "cell_type": "code",
   "execution_count": 1,
   "metadata": {},
   "outputs": [],
   "source": [
    "import requests, json\n",
    "import pandas as pd\n",
    "import numpy as np\n",
    "from pprint import pprint\n",
    "import requests\n",
    "\n",
    "pd.options.mode.chained_assignment = None"
   ]
  },
  {
   "cell_type": "code",
   "execution_count": 2,
   "metadata": {},
   "outputs": [],
   "source": [
    "#Logging in and getting my team\n",
    "#Do NOT run with VPN on :) \n",
    "\n",
    "s = requests.Session()\n",
    "\n",
    "headers = {\n",
    "   'authority': 'users.premierleague.com' ,\n",
    "   'cache-control': 'max-age=0' ,\n",
    "   'upgrade-insecure-requests': '1' ,\n",
    "   'origin': 'https://fantasy.premierleague.com' ,\n",
    "   'content-type': 'application/x-www-form-urlencoded' ,\n",
    "   'user-agent': 'Mozilla/5.0 (Macintosh; Intel Mac OS X 10_15_5) AppleWebKit/537.36 (KHTML, like Gecko) Chrome/83.0.4103.116 Safari/537.36' ,\n",
    "   'accept': 'text/html,application/xhtml+xml,application/xml;q=0.9,image/webp,image/apng,*/*;q=0.8,application/signed-exchange;v=b3;q=0.9' ,\n",
    "   'sec-fetch-site': 'same-site' ,\n",
    "   'sec-fetch-mode': 'navigate' ,\n",
    "   'sec-fetch-user': '?1' ,\n",
    "   'sec-fetch-dest': 'document' ,\n",
    "   'referer': 'https://fantasy.premierleague.com/my-team' ,\n",
    "   'accept-language': 'en-US,en;q=0.9,he;q=0.8' ,\n",
    "}\n",
    "with open(\"/Users/trajche/Desktop/python/FPL_Data_Pull/credentials.json\", 'r') as f:\n",
    "  data = json.load(f)\n",
    "\n",
    "\n",
    "url = \"https://users.premierleague.com/accounts/login/\"\n",
    "\n",
    "res = s.post(url, data = data,  headers = headers)\n",
    "\n",
    "team_url = \"https://fantasy.premierleague.com/api/my-team/203128/\"\n",
    "res = s.get(team_url)\n",
    "s = json.loads(res.content)"
   ]
  }
 ],
 "metadata": {
  "kernelspec": {
   "display_name": "Python 3.9.1 ('base')",
   "language": "python",
   "name": "python3"
  },
  "language_info": {
   "codemirror_mode": {
    "name": "ipython",
    "version": 3
   },
   "file_extension": ".py",
   "mimetype": "text/x-python",
   "name": "python",
   "nbconvert_exporter": "python",
   "pygments_lexer": "ipython3",
   "version": "3.9.1"
  },
  "orig_nbformat": 4,
  "vscode": {
   "interpreter": {
    "hash": "acdacd4993430624edd78ff25e7ca09b5748c80b384d7830ff89c02d5d3a1f14"
   }
  }
 },
 "nbformat": 4,
 "nbformat_minor": 2
}
