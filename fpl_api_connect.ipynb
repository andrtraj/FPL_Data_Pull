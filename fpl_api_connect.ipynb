{
 "cells": [
  {
   "cell_type": "code",
   "execution_count": 19,
   "metadata": {},
   "outputs": [],
   "source": [
    "import requests, json\n",
    "import pandas as pd\n",
    "import numpy as np\n",
    "from pprint import pprint\n",
    "import requests\n",
    "\n"
   ]
  },
  {
   "cell_type": "code",
   "execution_count": 45,
   "metadata": {},
   "outputs": [
    {
     "name": "stdout",
     "output_type": "stream",
     "text": [
      "/Users/trajche/Desktop/python/FPL_Data_Pull\n"
     ]
    }
   ],
   "source": [
    "print(os.getcwd())"
   ]
  },
  {
   "cell_type": "code",
   "execution_count": 47,
   "metadata": {},
   "outputs": [
    {
     "data": {
      "text/plain": [
       "{'picks': [{'element': 113,\n",
       "   'position': 1,\n",
       "   'selling_price': 45,\n",
       "   'multiplier': 1,\n",
       "   'purchase_price': 45,\n",
       "   'is_captain': False,\n",
       "   'is_vice_captain': False},\n",
       "  {'element': 285,\n",
       "   'position': 2,\n",
       "   'selling_price': 75,\n",
       "   'multiplier': 1,\n",
       "   'purchase_price': 75,\n",
       "   'is_captain': False,\n",
       "   'is_vice_captain': False},\n",
       "  {'element': 306,\n",
       "   'position': 3,\n",
       "   'selling_price': 70,\n",
       "   'multiplier': 1,\n",
       "   'purchase_price': 70,\n",
       "   'is_captain': False,\n",
       "   'is_vice_captain': False},\n",
       "  {'element': 284,\n",
       "   'position': 4,\n",
       "   'selling_price': 70,\n",
       "   'multiplier': 1,\n",
       "   'purchase_price': 70,\n",
       "   'is_captain': False,\n",
       "   'is_vice_captain': False},\n",
       "  {'element': 146,\n",
       "   'position': 5,\n",
       "   'selling_price': 60,\n",
       "   'multiplier': 1,\n",
       "   'purchase_price': 60,\n",
       "   'is_captain': False,\n",
       "   'is_vice_captain': False},\n",
       "  {'element': 283,\n",
       "   'position': 6,\n",
       "   'selling_price': 130,\n",
       "   'multiplier': 2,\n",
       "   'purchase_price': 130,\n",
       "   'is_captain': True,\n",
       "   'is_vice_captain': False},\n",
       "  {'element': 374,\n",
       "   'position': 7,\n",
       "   'selling_price': 60,\n",
       "   'multiplier': 1,\n",
       "   'purchase_price': 60,\n",
       "   'is_captain': False,\n",
       "   'is_vice_captain': False},\n",
       "  {'element': 19,\n",
       "   'position': 8,\n",
       "   'selling_price': 60,\n",
       "   'multiplier': 1,\n",
       "   'purchase_price': 60,\n",
       "   'is_captain': False,\n",
       "   'is_vice_captain': False},\n",
       "  {'element': 45,\n",
       "   'position': 9,\n",
       "   'selling_price': 50,\n",
       "   'multiplier': 1,\n",
       "   'purchase_price': 50,\n",
       "   'is_captain': False,\n",
       "   'is_vice_captain': False},\n",
       "  {'element': 28,\n",
       "   'position': 10,\n",
       "   'selling_price': 80,\n",
       "   'multiplier': 1,\n",
       "   'purchase_price': 80,\n",
       "   'is_captain': False,\n",
       "   'is_vice_captain': False},\n",
       "  {'element': 318,\n",
       "   'position': 11,\n",
       "   'selling_price': 115,\n",
       "   'multiplier': 1,\n",
       "   'purchase_price': 115,\n",
       "   'is_captain': False,\n",
       "   'is_vice_captain': True},\n",
       "  {'element': 207,\n",
       "   'position': 12,\n",
       "   'selling_price': 40,\n",
       "   'multiplier': 0,\n",
       "   'purchase_price': 40,\n",
       "   'is_captain': False,\n",
       "   'is_vice_captain': False},\n",
       "  {'element': 237,\n",
       "   'position': 13,\n",
       "   'selling_price': 45,\n",
       "   'multiplier': 0,\n",
       "   'purchase_price': 45,\n",
       "   'is_captain': False,\n",
       "   'is_vice_captain': False},\n",
       "  {'element': 346,\n",
       "   'position': 14,\n",
       "   'selling_price': 45,\n",
       "   'multiplier': 0,\n",
       "   'purchase_price': 45,\n",
       "   'is_captain': False,\n",
       "   'is_vice_captain': False},\n",
       "  {'element': 295,\n",
       "   'position': 15,\n",
       "   'selling_price': 40,\n",
       "   'multiplier': 0,\n",
       "   'purchase_price': 40,\n",
       "   'is_captain': False,\n",
       "   'is_vice_captain': False}],\n",
       " 'chips': [{'status_for_entry': 'available',\n",
       "   'played_by_entry': [],\n",
       "   'name': 'bboost',\n",
       "   'number': 1,\n",
       "   'start_event': 1,\n",
       "   'stop_event': 38,\n",
       "   'chip_type': 'team'},\n",
       "  {'status_for_entry': 'available',\n",
       "   'played_by_entry': [],\n",
       "   'name': '3xc',\n",
       "   'number': 1,\n",
       "   'start_event': 1,\n",
       "   'stop_event': 38,\n",
       "   'chip_type': 'team'}],\n",
       " 'transfers': {'cost': 4,\n",
       "  'status': 'unlimited',\n",
       "  'limit': None,\n",
       "  'made': 0,\n",
       "  'bank': 15,\n",
       "  'value': 985}}"
      ]
     },
     "execution_count": 47,
     "metadata": {},
     "output_type": "execute_result"
    }
   ],
   "source": [
    "#logging in and getting my team data\n",
    "\n",
    "s = requests.Session()\n",
    "\n",
    "headers = {\n",
    "   'authority': 'users.premierleague.com' ,\n",
    "   'cache-control': 'max-age=0' ,\n",
    "   'upgrade-insecure-requests': '1' ,\n",
    "   'origin': 'https://fantasy.premierleague.com' ,\n",
    "   'content-type': 'application/x-www-form-urlencoded' ,\n",
    "   'user-agent': 'Mozilla/5.0 (Macintosh; Intel Mac OS X 10_15_5) AppleWebKit/537.36 (KHTML, like Gecko) Chrome/83.0.4103.116 Safari/537.36' ,\n",
    "   'accept': 'text/html,application/xhtml+xml,application/xml;q=0.9,image/webp,image/apng,*/*;q=0.8,application/signed-exchange;v=b3;q=0.9' ,\n",
    "   'sec-fetch-site': 'same-site' ,\n",
    "   'sec-fetch-mode': 'navigate' ,\n",
    "   'sec-fetch-user': '?1' ,\n",
    "   'sec-fetch-dest': 'document' ,\n",
    "   'referer': 'https://fantasy.premierleague.com/my-team' ,\n",
    "   'accept-language': 'en-US,en;q=0.9,he;q=0.8' ,\n",
    "}\n",
    "with open(\"/Users/trajche/Desktop/python/FPL_Data_Pull/credentials.json\", 'r') as f:\n",
    "  data = json.load(f)\n",
    "\n",
    "\n",
    "url = \"https://users.premierleague.com/accounts/login/\"\n",
    "\n",
    "res = s.post(url, data = data,  headers = headers)\n",
    "\n",
    "team_url = \"https://fantasy.premierleague.com/api/my-team/203128/\"\n",
    "res = s.get(team_url)\n",
    "json.loads(res.content)\n"
   ]
  },
  {
   "cell_type": "code",
   "execution_count": null,
   "metadata": {},
   "outputs": [],
   "source": [
    "s = json.loads(res.content)"
   ]
  },
  {
   "cell_type": "code",
   "execution_count": 39,
   "metadata": {},
   "outputs": [
    {
     "name": "stdout",
     "output_type": "stream",
     "text": [
      "   element  position  selling_price  multiplier  purchase_price  is_captain  \\\n",
      "0      113         1             45           1              45       False   \n",
      "1      285         2             75           1              75       False   \n",
      "2      306         3             70           1              70       False   \n",
      "3      284         4             70           1              70       False   \n",
      "4      146         5             60           1              60       False   \n",
      "\n",
      "   is_vice_captain  \n",
      "0            False  \n",
      "1            False  \n",
      "2            False  \n",
      "3            False  \n",
      "4            False  \n"
     ]
    }
   ],
   "source": [
    "\n",
    "myteam = pd.json_normalize(s['picks'])\n",
    "print(myteam.head(5))"
   ]
  },
  {
   "cell_type": "code",
   "execution_count": 2,
   "metadata": {},
   "outputs": [
    {
     "name": "stdout",
     "output_type": "stream",
     "text": [
      "{ 'element_stats': [...],\n",
      "  'element_types': [...],\n",
      "  'elements': [...],\n",
      "  'events': [...],\n",
      "  'game_settings': {...},\n",
      "  'phases': [...],\n",
      "  'teams': [...],\n",
      "  'total_players': 4657517}\n"
     ]
    }
   ],
   "source": [
    "# base url for all FPL API endpoints\n",
    "base_url = 'https://fantasy.premierleague.com/api/'\n",
    "\n",
    "# get data from bootstrap-static endpoint\n",
    "r = requests.get(base_url+'bootstrap-static/').json()\n",
    "\n",
    "# show the top level fields\n",
    "pprint(r, indent=2, depth=1, compact=True)"
   ]
  },
  {
   "cell_type": "code",
   "execution_count": 4,
   "metadata": {},
   "outputs": [
    {
     "name": "stdout",
     "output_type": "stream",
     "text": [
      "{'chance_of_playing_next_round': None, 'chance_of_playing_this_round': None, 'code': 58822, 'cost_change_event': 0, 'cost_change_event_fall': 0, 'cost_change_start': 0, 'cost_change_start_fall': 0, 'dreamteam_count': 0, 'element_type': 2, 'ep_next': '2.3', 'ep_this': None, 'event_points': 0, 'first_name': 'Cédric', 'form': '0.0', 'id': 1, 'in_dreamteam': False, 'news': '', 'news_added': None, 'now_cost': 45, 'photo': '58822.jpg', 'points_per_game': '2.3', 'second_name': 'Alves Soares', 'selected_by_percent': '0.3', 'special': False, 'squad_number': None, 'status': 'a', 'team': 1, 'team_code': 3, 'total_points': 48, 'transfers_in': 0, 'transfers_in_event': 0, 'transfers_out': 0, 'transfers_out_event': 0, 'value_form': '0.0', 'value_season': '10.7', 'web_name': 'Cédric', 'minutes': 1481, 'goals_scored': 1, 'assists': 1, 'clean_sheets': 3, 'goals_conceded': 27, 'own_goals': 0, 'penalties_saved': 0, 'penalties_missed': 0, 'yellow_cards': 3, 'red_cards': 0, 'saves': 0, 'bonus': 3, 'bps': 292, 'influence': '318.4', 'creativity': '327.1', 'threat': '111.0', 'ict_index': '75.8', 'influence_rank': 205, 'influence_rank_type': 81, 'creativity_rank': 114, 'creativity_rank_type': 24, 'threat_rank': 239, 'threat_rank_type': 80, 'ict_index_rank': 199, 'ict_index_rank_type': 63, 'corners_and_indirect_freekicks_order': 2, 'corners_and_indirect_freekicks_text': '', 'direct_freekicks_order': 3, 'direct_freekicks_text': '', 'penalties_order': None, 'penalties_text': ''}\n"
     ]
    }
   ],
   "source": [
    "\n",
    "players = r['elements']\n",
    "print(players[0)]"
   ]
  },
  {
   "cell_type": "code",
   "execution_count": 10,
   "metadata": {},
   "outputs": [],
   "source": [
    "players = pd.json_normalize(r['elements'])\n",
    "\n",
    "p1 = players[['id', 'web_name', 'team', 'element_type', 'now_cost']].head()"
   ]
  },
  {
   "cell_type": "code",
   "execution_count": 12,
   "metadata": {},
   "outputs": [
    {
     "name": "stdout",
     "output_type": "stream",
     "text": [
      "   id web_name  team  element_type  now_cost  game_cost\n",
      "0   1   Cédric     1             2        45        4.5\n",
      "1   2     Leno     1             1        45        4.5\n",
      "2   3    Xhaka     1             3        50        5.0\n",
      "3   4   Elneny     1             3        45        4.5\n",
      "4   5  Holding     1             2        45        4.5\n"
     ]
    }
   ],
   "source": [
    "p1['game_cost'] = p1['now_cost'] / 10\n",
    "print(p1.head())"
   ]
  },
  {
   "cell_type": "code",
   "execution_count": 28,
   "metadata": {},
   "outputs": [
    {
     "name": "stdout",
     "output_type": "stream",
     "text": [
      "{ 'current_event': None,\n",
      "  'favourite_team': 12,\n",
      "  'id': 203128,\n",
      "  'joined_time': '2022-07-05T18:18:24.725376Z',\n",
      "  'kit': None,\n",
      "  'last_deadline_bank': None,\n",
      "  'last_deadline_total_transfers': 0,\n",
      "  'last_deadline_value': None,\n",
      "  'leagues': {...},\n",
      "  'name': 'van Trajk',\n",
      "  'name_change_blocked': False,\n",
      "  'player_first_name': 'Andrej',\n",
      "  'player_last_name': 'Trajkovski',\n",
      "  'player_region_id': 241,\n",
      "  'player_region_iso_code_long': 'ENG',\n",
      "  'player_region_iso_code_short': 'EN',\n",
      "  'player_region_name': 'England',\n",
      "  'started_event': 1,\n",
      "  'summary_event_points': None,\n",
      "  'summary_event_rank': None,\n",
      "  'summary_overall_points': None,\n",
      "  'summary_overall_rank': None}\n"
     ]
    }
   ],
   "source": [
    "# base url for all FPL API endpoints\n",
    "base_url = 'https://fantasy.premierleague.com/api/'\n",
    "\n",
    "# get data from bootstrap-static endpoint\n",
    "r = requests.get(base_url+'entry/203128/').json()\n",
    "\n",
    "# show the top level fields\n",
    "pprint(r, indent=2, depth=1, compact=True)"
   ]
  },
  {
   "cell_type": "code",
   "execution_count": 32,
   "metadata": {},
   "outputs": [
    {
     "name": "stdout",
     "output_type": "stream",
     "text": [
      "{'detail': 'Authentication credentials were not provided.'}\n"
     ]
    }
   ],
   "source": [
    "#Get competitors teams\n",
    "\n",
    "base_url = 'https://fantasy.premierleague.com/api/'\n",
    "\n",
    "# get data from bootstrap-static endpoint\n",
    "r = requests.get(base_url+'my-team/203128/').json()\n",
    "\n",
    "# show the top level fields\n",
    "pprint(r, indent=2, depth=1, compact=True)\n"
   ]
  }
 ],
 "metadata": {
  "kernelspec": {
   "display_name": "Python 3.9.1 ('base')",
   "language": "python",
   "name": "python3"
  },
  "language_info": {
   "codemirror_mode": {
    "name": "ipython",
    "version": 3
   },
   "file_extension": ".py",
   "mimetype": "text/x-python",
   "name": "python",
   "nbconvert_exporter": "python",
   "pygments_lexer": "ipython3",
   "version": "3.9.1"
  },
  "orig_nbformat": 4,
  "vscode": {
   "interpreter": {
    "hash": "acdacd4993430624edd78ff25e7ca09b5748c80b384d7830ff89c02d5d3a1f14"
   }
  }
 },
 "nbformat": 4,
 "nbformat_minor": 2
}
